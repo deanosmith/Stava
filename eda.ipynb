{
 "cells": [
  {
   "cell_type": "code",
   "execution_count": 1,
   "metadata": {},
   "outputs": [],
   "source": [
    "import pandas as pd\n",
    "import numpy as np\n",
    "import matplotlib.pyplot as plt\n",
    "\n",
    "# Load the data\n",
    "file_path = 'activities.csv'\n",
    "df = pd.read_csv(file_path)"
   ]
  },
  {
   "cell_type": "code",
   "execution_count": 2,
   "metadata": {},
   "outputs": [
    {
     "data": {
      "text/plain": [
       "(102, 87)"
      ]
     },
     "execution_count": 2,
     "metadata": {},
     "output_type": "execute_result"
    }
   ],
   "source": [
    "df.shape"
   ]
  },
  {
   "cell_type": "code",
   "execution_count": 3,
   "metadata": {},
   "outputs": [],
   "source": [
    "# Remove outliers based on 'Distance' and 'Elapsed Time'\n",
    "# df = df[df['Distance'] < 42]  # Assuming marathons are outliers\n",
    "# df = df[df['Elapsed Time'] < 180]  # Assuming 3 hours is a cutoff for extraordinary long runs\n",
    "\n",
    "# df = df[(df['Speed Min/Km'] >= 4) & (df['Speed Min/Km'] <= 10)]  # Speed range 4min/km to 10min/km\n",
    "# df = df[df['Average Heart Rate'] <= 190]  # Assuming heart rate above 190 bpm is an outlier\n"
   ]
  },
  {
   "cell_type": "code",
   "execution_count": 4,
   "metadata": {},
   "outputs": [
    {
     "data": {
      "text/plain": [
       "(102, 87)"
      ]
     },
     "execution_count": 4,
     "metadata": {},
     "output_type": "execute_result"
    }
   ],
   "source": [
    "# Convert 'Activity Date' to a datetime format\n",
    "df['Activity Date'] = pd.to_datetime(df['Activity Date'])\n",
    "\n",
    "# Apply filters one by one to see which one is causing the DataFrame to empty\n",
    "df_running = df[df['Activity Type'] == 'Run']\n",
    "df_running_2023 = df_running[df_running['Activity Date'].dt.year == 2023]\n",
    "\n",
    "df.shape"
   ]
  },
  {
   "cell_type": "code",
   "execution_count": 5,
   "metadata": {},
   "outputs": [
    {
     "data": {
      "text/plain": [
       "0       6.982201\n",
       "1       6.431718\n",
       "2       5.416667\n",
       "3       5.475040\n",
       "4       5.548246\n",
       "         ...    \n",
       "96     11.659436\n",
       "97      7.810374\n",
       "98      7.021350\n",
       "99      7.011893\n",
       "101     7.832963\n",
       "Name: Speed Min/Km, Length: 100, dtype: float64"
      ]
     },
     "execution_count": 5,
     "metadata": {},
     "output_type": "execute_result"
    }
   ],
   "source": [
    "df = df[df['Distance'] > 0]\n",
    "\n",
    "# Convert 'Elapsed Time' to minutes and 'Distance' to kilometers\n",
    "df['Elapsed Time'] = df['Elapsed Time'] / 60\n",
    "# df['Distance'] = df['Distance'] / 1000\n",
    "\n",
    "\n",
    "# Calculate speed in minutes per kilometer\n",
    "df['Speed Min/Km'] = df['Elapsed Time'] / df['Distance']\n",
    "\n",
    "# df.shape\n",
    "df['Speed Min/Km']\n",
    "# df['Elapsed Time']\n",
    "# df['Distance']"
   ]
  },
  {
   "cell_type": "code",
   "execution_count": null,
   "metadata": {},
   "outputs": [],
   "source": [
    "# Filter out data to remove more outliers for speed and heart rate\n",
    "# df = df[(df['Speed Min/Km'] >= 4) & (df['Speed Min/Km'] <= 10)]  # Speed range 4min/km to 10min/km\n",
    "# df = df[df['Average Heart Rate'] <= 190]  # Assuming heart rate above 190 bpm is an outlier\n",
    "\n",
    "# Convert 'Activity Date' to a datetime format\n",
    "df['Activity Date'] = pd.to_datetime(df['Activity Date'])\n",
    "\n",
    "# Now you can use the .dt accessor to extract the week number\n",
    "df['Week'] = df['Activity Date'].dt.isocalendar().week\n",
    "df['Month'] = df['Activity Date'].dt.month\n",
    "\n",
    "df.shape"
   ]
  },
  {
   "cell_type": "code",
   "execution_count": null,
   "metadata": {},
   "outputs": [],
   "source": [
    "# Create visualizations\n",
    "# Weighted average speed by month\n",
    "monthly_speed_sum = df.groupby('Month')['Speed Min/Km'].sum()\n",
    "monthly_activity_count = df.groupby('Month')['Activity ID'].count()\n",
    "weighted_avg_speed_by_month = monthly_speed_sum / monthly_activity_count\n",
    "\n",
    "# Weighted average heart rate by month\n",
    "monthly_hr_sum = df.groupby('Month')['Average Heart Rate'].sum()\n",
    "weighted_avg_hr_by_month = monthly_hr_sum / monthly_activity_count\n",
    "\n",
    "# Convert month numbers to names\n",
    "month_names = {1: 'January', 2: 'February', 3: 'March', 4: 'April', 5: 'May', 6: 'June',\n",
    "               7: 'July', 8: 'August', 9: 'September', 10: 'October', 11: 'November', 12: 'December'}\n",
    "weighted_avg_speed_by_month_names = {month_names[k]: v for k, v in weighted_avg_speed_by_month.items()}\n",
    "weighted_avg_hr_by_month_names = {month_names[k]: v for k, v in weighted_avg_hr_by_month.items()}\n"
   ]
  },
  {
   "cell_type": "code",
   "execution_count": null,
   "metadata": {},
   "outputs": [],
   "source": [
    "# Plot weighted average speed by month\n",
    "plt.figure(figsize=(14, 7))\n",
    "plt.subplot(1, 2, 1)\n",
    "plt.bar(weighted_avg_speed_by_month_names.keys(), weighted_avg_speed_by_month_names.values(), color='blue')\n",
    "plt.title('Weighted Average Speed by Month (min/km)')\n",
    "plt.xlabel('Month')\n",
    "plt.ylabel('Weighted Speed (min/km)')\n",
    "plt.xticks(rotation=45)\n",
    "plt.show()"
   ]
  },
  {
   "cell_type": "code",
   "execution_count": null,
   "metadata": {},
   "outputs": [],
   "source": [
    "# Plot weighted average heart rate by month\n",
    "plt.subplot(1, 2, 2)\n",
    "plt.bar(weighted_avg_hr_by_month_names.keys(), weighted_avg_hr_by_month_names.values(), color='red')\n",
    "plt.title('Weighted Average Heart Rate by Month (bpm)')\n",
    "plt.xlabel('Month')\n",
    "plt.ylabel('Weighted Heart Rate (bpm)')\n",
    "plt.xticks(rotation=45)\n",
    "\n",
    "plt.tight_layout()\n",
    "plt.show()"
   ]
  },
  {
   "cell_type": "code",
   "execution_count": null,
   "metadata": {},
   "outputs": [],
   "source": [
    "\n",
    "# Cumulative distance by week from July\n",
    "df_july_onwards = df[df['Activity Date'].dt.month >= 7]\n",
    "weekly_cumulative_distance = df_july_onwards.groupby('Week')['Distance'].cumsum()\n",
    "\n",
    "# Plot cumulative distance by week\n",
    "plt.figure(figsize=(10, 5))\n",
    "plt.plot(weekly_cumulative_distance.index, weekly_cumulative_distance, marker='o', color='green')\n",
    "plt.title('Cumulative Distance by Week from July 2023')\n",
    "plt.xlabel('Week')\n",
    "plt.ylabel('Cumulative Distance (km)')\n",
    "plt.grid(True)\n",
    "plt.show()"
   ]
  }
 ],
 "metadata": {
  "kernelspec": {
   "display_name": "Python 3",
   "language": "python",
   "name": "python3"
  },
  "language_info": {
   "codemirror_mode": {
    "name": "ipython",
    "version": 3
   },
   "file_extension": ".py",
   "mimetype": "text/x-python",
   "name": "python",
   "nbconvert_exporter": "python",
   "pygments_lexer": "ipython3",
   "version": "3.10.1"
  }
 },
 "nbformat": 4,
 "nbformat_minor": 2
}
